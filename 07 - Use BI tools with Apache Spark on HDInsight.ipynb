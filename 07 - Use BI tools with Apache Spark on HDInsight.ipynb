{
 "cells": [
  {
   "cell_type": "markdown",
   "metadata": {},
   "source": [
    "# Use BI tools with Apache Spark on Azure HDInsight\n",
    "\n",
    "Learn how to use Apache Spark in Azure HDInsight to do the following:\n",
    "\n",
    "* Take raw sample data and save it as a Hive table\n",
    "* Use BI tools such as Power BI and Tableau to analyze and visualize the data.\n",
    "\n",
    "**Prerequisites:**\n",
    "\n",
    "- A computer with Microsoft Spark ODBC driver installed (required for Spark on HDInsight to work with Tableau). You can install the driver from [here](http://go.microsoft.com/fwlink/?LinkId=616229).\n",
    "- BI tools such as [Power BI](http://www.powerbi.com/) or [Tableau Desktop](http://www.tableau.com/products/desktop). You can get a free preview subscription of Power BI from [http://www.powerbi.com/](http://www.powerbi.com/).\n",
    "\n",
    "https://docs.microsoft.com/en-us/azure/hdinsight/spark/apache-spark-use-bi-tools"
   ]
  },
  {
   "cell_type": "markdown",
   "metadata": {},
   "source": [
    "----------\n",
    "## Notebook setup\n",
    "\n",
    "When using PySpark kernel notebooks on HDInsight, there is no need to create a SparkContext or a SparkSession; a SparkSession which has the SparkContext is created for you automatically when you run the first code cell, and you'll be able to see the progress printed. The contexts are created with the following variable names:\n",
    "- SparkSession (spark)\n",
    "\n",
    "To run the cells below, place the cursor in the cell and then press **SHIFT + ENTER**."
   ]
  },
  {
   "cell_type": "markdown",
   "metadata": {},
   "source": [
    "--------\n",
    "\n",
    "## Save raw data as a Hive table\n",
    "\n",
    "Load sample data into a temporary table. We use a sample data file, **hvac.csv**. When you provision a Spark cluster in HDInsight, the sample data file, **hvac.csv**, is copied to the associated storage account under **\\HdiSamples\\HdiSamples\\SensorSampleData\\hvac**."
   ]
  },
  {
   "cell_type": "code",
   "execution_count": null,
   "metadata": {
    "collapsed": false
   },
   "outputs": [],
   "source": [
    "from pyspark.sql import *"
   ]
  },
  {
   "cell_type": "code",
   "execution_count": null,
   "metadata": {
    "collapsed": false
   },
   "outputs": [],
   "source": [
    "# Create an DataFrame from sample data\n",
    "hvacTable = spark.read.csv('wasb:///HdiSamples/HdiSamples/SensorSampleData/hvac/HVAC.csv', header=True, inferSchema=True)\n",
    "hvacTable.registerTempTable('hvactemptable')\n",
    "\n",
    "dfw = DataFrameWriter(hvacTable)\n",
    "dfw.saveAsTable('hvac')"
   ]
  },
  {
   "cell_type": "markdown",
   "metadata": {},
   "source": [
    "Verify that the table was successfully created. You can use the `%%sql` directive to run HiveQL commands inline in the cell."
   ]
  },
  {
   "cell_type": "code",
   "execution_count": null,
   "metadata": {
    "collapsed": false
   },
   "outputs": [],
   "source": [
    "%%sql\n",
    "SHOW TABLES"
   ]
  },
  {
   "cell_type": "markdown",
   "metadata": {},
   "source": [
    "Only the tables that have false under the `isTemporary` column are Hive tables that will be stored in the metastore and can be accessed from the BI tools. In this tutorial, we will connect to the `hvac` table we just created."
   ]
  },
  {
   "cell_type": "markdown",
   "metadata": {},
   "source": [
    "Verify that the table contains the intended data. Retrieve a sample dataset from the table."
   ]
  },
  {
   "cell_type": "code",
   "execution_count": null,
   "metadata": {
    "collapsed": false
   },
   "outputs": [],
   "source": [
    "%%sql\n",
    "SELECT * FROM hvac LIMIT 10"
   ]
  },
  {
   "cell_type": "markdown",
   "metadata": {},
   "source": [
    "You have now loaded the data from the sample data file into a Hive table."
   ]
  },
  {
   "cell_type": "markdown",
   "metadata": {
    "collapsed": true
   },
   "source": [
    "--------\n",
    "\n",
    "## Use Power BI to analyze data in the Hive table\n",
    "\n",
    "Once you have saved the data as a Hive table, you can use Power BI to connect to the data and visualize it to create reports, dashboards, etc.\n",
    "\n",
    "1. Sign in to [Power BI](http://www.powerbi.com/).\n",
    "\n",
    "2. On the Welcome screen, click **Databases & More**.\n",
    "\n",
    "    ![Spark tile on Power BI dashboard](https://mysstorage.blob.core.windows.net/notebookimages/sparkbi/HDI.Spark.PowerBI.Get.Data.png \"Spark tile on Power BI dashboard\")\n",
    "\n",
    "3. On the next screen, click **Spark on Azure HDInsight** and then click **Connect**. When prompted, enter the cluster URL (`mysparkcluster.azurehdinsight.net`) and the credentials to connect to the cluster. After the connection is established, Power BI starts importing data from the Spark cluster on HDInsight.\n",
    "\n",
    "4. Power BI imports the data and adds a new Spark dataset under the **Datasets** heading. Click the data set to open a new worksheet to visualize the data. You can also save the worksheet as a report. To save a worksheet, from the **File** menu, click **Save**.\n",
    "\n",
    "    ![Spark tile on Power BI dashboard](https://mysstorage.blob.core.windows.net/notebookimages/sparkbi/HDI.Spark.PowerBI.Tile.png \"Spark tile on Power BI dashboard\")\n",
    "    \n",
    "5. Notice that the **Fields** list on the right lists the **hvac** table you created earlier. Expand the table to see the fields in the table, as you defined in notebook earlier.\n",
    "\n",
    "    ![List Hive tables](https://mysstorage.blob.core.windows.net/notebookimages/sparkbi/HDI.Spark.PowerBI.Display.Tables.png \"List Hive tables\")\n",
    "      \n",
    "7. Build a visualization to show the variance between target temperature and actual temperature for each building. Select **Area Chart** (shown in red box) to visualize your data. To define the axis, drag-and-drop the **BuildingID** field under **Axis**, and **ActualTemp**/**TargetTemp** fields under **Value**.\n",
    "\n",
    "    ![Create visualizations](https://mysstorage.blob.core.windows.net/notebookimages/sparkbi/HDI.Spark.PowerBI.Visual.1.png \"Create visualizations\")\n",
    "\n",
    "8. By default the visualization shows the sum for **ActualTemp** and **TargetTemp**. For both the fields, from the drop-down, select **Average** to get an average of actual and target temperatures for both buildings.\n",
    "\n",
    "    ![Create visualizations](https://mysstorage.blob.core.windows.net/notebookimages/sparkbi/HDI.Spark.PowerBI.Visual.2.png \"Create visualizations\")\n",
    "\n",
    "9. Your data visualization should be similar to the following. Move your cursor over the visualization to get tool tips with relevant data.\n",
    "\n",
    "    ![Create visualizations](https://mysstorage.blob.core.windows.net/notebookimages/sparkbi/HDI.Spark.PowerBI.Visual.3.png \"Create visualizations\")\n",
    "\n",
    "10. Click **Save** from the top menu and provide a report name. You can also pin the visual. When you pin a visualization, it will be stored on your dashboard so you can track the latest value at a glance.\n",
    "\n",
    "    You can add as many visualizations as you want for the same dataset and pin them to the dashboard for a snapshot of your data. Also, Spark clusters on HDInsight are connected to Power BI with direct connect. This means that Power BI always has the most up-to-date from your cluster so you do not need to schedule refreshes for the dataset."
   ]
  },
  {
   "cell_type": "markdown",
   "metadata": {},
   "source": [
    "---------\n",
    "\n",
    "## Use Tableau Desktop to analyze data in the Hive table\n",
    "\t\n",
    "1. Launch Tableau Desktop. In the left pane, from the list of server to connect to, click **Spark SQL**. If Spark SQL is not listed by default in the left pane, you can find it by click **More Servers**. \n",
    "\n",
    "2. In the Spark SQL connection dialog box, provide the values as shown below, and then click **OK**.\n",
    "\n",
    "    ![Connect to a Spark cluster](https://mysstorage.blob.core.windows.net/notebookimages/sparkbi/HDI.Spark.Tableau.Connect.png \"Connect to a Spark cluster\")\n",
    "\n",
    "    The authentication drop-down lists **Microsoft Azure HDInsight Service** as an option, only if you installed the [Microsoft Spark ODBC Driver](http://go.microsoft.com/fwlink/?LinkId=616229) on the computer.\n",
    "\n",
    "3. On the next screen, from the **Schema** drop-down, click the **Find** icon, and then click **default**.\n",
    "\n",
    "    ![Find schema](https://mysstorage.blob.core.windows.net/notebookimages/sparkbi/HDI.Spark.Tableau.Find.Schema.png \"Find schema\")\n",
    "\n",
    "4. For the **Table** field, click the **Find** icon again to list all the Hive tables available in the cluster. You should see the **hvac** table you created earlier using the notebook.\n",
    "\n",
    "    ![Find tables](https://mysstorage.blob.core.windows.net/notebookimages/sparkbi/HDI.Spark.Tableau.Find.Table.png \"Find tables\") \n",
    "    \n",
    "5. Drag and drop the table to the top box on the right. Tableau imports the data and displays the schema as highlighted by the red box.\n",
    "\n",
    "    ![Add tables to Tableau](https://mysstorage.blob.core.windows.net/notebookimages/sparkbi/HDI.Spark.Tableau.Drag.Table.png \"Add tables to Tableau\")\n",
    "\n",
    "6. Click the **Sheet1** tab at the bottom left. Make a visualization that shows the average target and actual temperatures for all buildings for each date. Drag **Date** and **Building ID** to **Columns** and **Actual Temp**/**Target Temp** to **Rows**. Under **Marks**, select **Area** to use an area map visualization.\n",
    "\n",
    "    ![Add fields for visualization](https://mysstorage.blob.core.windows.net/notebookimages/sparkbi/HDI.Spark.Tableau.Drag.Fields.png \"Add fields for visualization\")\n",
    "\n",
    "7. By default, the temperature fields are shown as aggregate. If you want to show the average temperatures instead, you can do so from the drop-down, as shown below.\n",
    "\n",
    "    ![Take average of temperature](https://mysstorage.blob.core.windows.net/notebookimages/sparkbi/HDI.Spark.Tableau.Temp.Avg.png \"Take average of temperature\")\n",
    "\n",
    "8. You can also super-impose one temperature map over the other to get a better feel of difference between target and actual temperatures. Move the mouse to the corner of the lower area map till you see the handle shape highlighted in a red circle. Drag the map to the other map on the top and release the mouse when you see the shape highlighted in red rectangle.\n",
    "\n",
    "    ![Merge maps](https://mysstorage.blob.core.windows.net/notebookimages/sparkbi/HDI.Spark.Tableau.Merge.png \"Merge maps\")\n",
    "\n",
    "     Your data visualization should change to the following:\n",
    "\n",
    "    ![Visualization](https://mysstorage.blob.core.windows.net/notebookimages/sparkbi/HDI.Spark.Tableau.Final.Visual.png \"Visualization\")\n",
    "\n",
    "9. Click **Save** to save the worksheet. You can create dashboards and add one or more sheets to it."
   ]
  }
 ],
 "metadata": {
  "kernelspec": {
   "display_name": "PySpark",
   "language": "",
   "name": "pysparkkernel"
  },
  "language_info": {
   "codemirror_mode": {
    "name": "python",
    "version": 2
   },
   "mimetype": "text/x-python",
   "name": "pyspark",
   "pygments_lexer": "python2"
  },
  "widgets": {
   "state": {
    "4b9bb21663e54f29bac3b4cef32a22bc": {
     "views": [
      {
       "cell_index": 6
      }
     ]
    },
    "e2aac51a8e6049fa88161d321c0d9f87": {
     "views": [
      {
       "cell_index": 9
      }
     ]
    }
   },
   "version": "1.2.0"
  }
 },
 "nbformat": 4,
 "nbformat_minor": 0
}
