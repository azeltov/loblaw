{
 "cells": [
  {
   "cell_type": "markdown",
   "metadata": {},
   "source": [
    "## Azure AML SDK\n",
    "\n",
    "https://github.com/Azure/AzureMLPreview\n",
    "\n",
    "\n",
    "https://github.com/Azure/AzureMLPreview/blob/master/notebooks/README.md\n",
    "\n",
    "\n",
    "https://github.com/Azure/AzureMLPreview/blob/master/notebooks/05.train-in-spark.ipynb"
   ]
  },
  {
   "cell_type": "markdown",
   "metadata": {},
   "source": [
    "MLFlow:\n",
    "    \n",
    "    https://www.mlflow.org/docs/latest/index.html\n",
    "        "
   ]
  },
  {
   "cell_type": "code",
   "execution_count": null,
   "metadata": {
    "collapsed": true
   },
   "outputs": [],
   "source": []
  }
 ],
 "metadata": {
  "kernelspec": {
   "display_name": "PySpark3",
   "language": "",
   "name": "pyspark3kernel"
  },
  "language_info": {
   "codemirror_mode": {
    "name": "python",
    "version": 3
   },
   "mimetype": "text/x-python",
   "name": "pyspark3",
   "pygments_lexer": "python3"
  }
 },
 "nbformat": 4,
 "nbformat_minor": 2
}