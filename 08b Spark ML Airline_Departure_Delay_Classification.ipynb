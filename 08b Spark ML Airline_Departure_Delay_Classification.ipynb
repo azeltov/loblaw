{
 "cells": [
  {
   "cell_type": "markdown",
   "metadata": {},
   "source": [
    "# Wrangling, Exploration and Modeling of Airline Departure Delay (2011/2012) Dataset on Spark 2.0 HDInsight Clusters (pySpark3)"
   ]
  },
  {
   "cell_type": "markdown",
   "metadata": {},
   "source": [
    "---------------------------------\n",
    "### Here we show key features and capabilities of Spark's MLlib toolkit using the Airline On-Time Performance Dataset from the Research and Innovative Technology Administration of the Bureau of Transportation Statistics (see below). This dataset spans 26 years, 1988 through 2012, and is fairly large: over 148 million records, or 14 GB of raw information. We used a part of the data, that from 2011 (training) and 2012 (testing), to evaluate the performance of binary classification models to predict if certain flight departures were delayed by 15 mins or not. \n",
    "\n",
    "### The weather conditions (e.g. windspeed, humidity, precipitation) at origin and destination airports was integrated with the original airline data-set in order to incorporate the weather features in the models.\n",
    "\n",
    "### This notebook takes about 15 mins to run on a 2 worker-node cluster(D12_V2).\n",
    "\n",
    "### The nobebook runs in the PySpark3 kernel in Jupyter.\n",
    "\n",
    "----------------------------------"
   ]
  },
  {
   "cell_type": "markdown",
   "metadata": {},
   "source": [
    "### OBJECTIVE: Show use of Spark ML functions for featurization and ML tasks.\n",
    "\n",
    "### The learning task is to predict whether flight departures were delayed by 15 mins or not (binary classification), based on airport (origin and destination airports) and weather (e.g. windspeed, humidity, temperature) features.\n",
    "\n",
    "#### We have shown the following steps:\n",
    "1. Data ingestion, joining, and wrangling.\n",
    "2. Data exploration and plotting.\n",
    "3. Data preparation (featurizing/transformation).\n",
    "4. Modeling (using incl. hyperparameter tuning with cross-validation), prediction, model persistance.\n",
    "5. Model evaluation on an independent validation data-set.\n",
    "\n",
    "Through the above steps we highlight Spark SQL, as well as, MLlib's modeling and transformation functions."
   ]
  },
  {
   "cell_type": "markdown",
   "metadata": {},
   "source": [
    "### Introductory material\n",
    "\n",
    "Airline On-Time Performance Dataset from the Research and Innovative Technology Administration of the Bureau of Transportation Statistics (http://www.transtats.bts.gov/DL_SelectFields.asp?Table_ID=236&DB_Short_Name=On-Time).\n",
    "\n",
    "The combined dataset can be obtained from the Revolution Analytics website (http://packages.revolutionanalytics.com/datasets/AirOnTime87to12). \n",
    "\n",
    "An interesting feature of the airline data-set is that there are several features (e.g. airport ids, flight numbers etc.) which have many (>100) categorical features.\n",
    "\n",
    "----------------------------------"
   ]
  },
  {
   "cell_type": "markdown",
   "metadata": {},
   "source": [
    "## Set directory paths and location of training, validation files, as well as model location in blob storage\n",
    "NOTE: The blob storage attached to the HDI cluster is referenced as: wasb:/// (Windows Azure Storage Blob). Other blob storage accounts are referenced as: wasb://"
   ]
  },
  {
   "cell_type": "code",
   "execution_count": 1,
   "metadata": {
    "collapsed": false
   },
   "outputs": [
    {
     "name": "stdout",
     "output_type": "stream",
     "text": [
      "Starting Spark application\n"
     ]
    },
    {
     "data": {
      "text/html": [
       "<table>\n",
       "<tr><th>ID</th><th>YARN Application ID</th><th>Kind</th><th>State</th><th>Spark UI</th><th>Driver log</th><th>Current session?</th></tr><tr><td>4</td><td>application_1536324999560_0005</td><td>pyspark3</td><td>idle</td><td><a target=\"_blank\" href=\"http://hn0-hdieas.an1rqrunnmpefkns41tel1bbec.bx.internal.cloudapp.net:8088/proxy/application_1536324999560_0005/\">Link</a></td><td><a target=\"_blank\" href=\"http://wn0-hdieas.an1rqrunnmpefkns41tel1bbec.bx.internal.cloudapp.net:30060/node/containerlogs/container_e01_1536324999560_0005_01_000001/livy\">Link</a></td><td>✔</td></tr></table>"
      ],
      "text/plain": [
       "<IPython.core.display.HTML object>"
      ]
     },
     "metadata": {},
     "output_type": "display_data"
    },
    {
     "name": "stdout",
     "output_type": "stream",
     "text": [
      "SparkSession available as 'spark'.\n"
     ]
    }
   ],
   "source": [
    "# 1. Location of training data: contains Dec 2013 trip and fare data from NYC \n",
    "air_file_loc = \"wasb://data@cdspsparksamples.blob.core.windows.net/Airline/AirlineSubsetCsv\"\n",
    "weather_file_loc = \"wasb://data@cdspsparksamples.blob.core.windows.net/Airline/WeatherSubsetCsv\"\n",
    "\n",
    "# 3. Set model storage directory path. This is where models will be saved.\n",
    "modelDir = \"wasb:///user/remoteuser/Airline/Models/\"; # The last backslash is needed;\n",
    "\n",
    "# 4. Set data storage path. This is where data is sotred on the blob attached to the cluster.\n",
    "dataDir = \"wasb:///HdiSamples/HdiSamples/Airline/\"; # The last backslash is needed;"
   ]
  },
  {
   "cell_type": "markdown",
   "metadata": {},
   "source": [
    "## Import necessary libraries"
   ]
  },
  {
   "cell_type": "code",
   "execution_count": 2,
   "metadata": {
    "collapsed": false
   },
   "outputs": [],
   "source": [
    "from pyspark import SparkConf\n",
    "from pyspark import SparkContext\n",
    "from pyspark.sql import SQLContext\n",
    "from pyspark.sql.functions import UserDefinedFunction\n",
    "from pyspark.sql.types import *\n",
    "import matplotlib.pyplot as plt\n",
    "import numpy as np\n",
    "import datetime\n"
   ]
  },
  {
   "cell_type": "markdown",
   "metadata": {},
   "source": [
    "## Data ingestion and wrangling using Spark SQL"
   ]
  },
  {
   "cell_type": "markdown",
   "metadata": {},
   "source": [
    "#### Data import and registering as tables"
   ]
  },
  {
   "cell_type": "code",
   "execution_count": 3,
   "metadata": {
    "collapsed": true
   },
   "outputs": [],
   "source": [
    "## READ IN AIR DATA FRAME FROM CSV\n",
    "air = spark.read.csv(path=air_file_loc, header=True, inferSchema=True)\n",
    "\n",
    "## READ IN WEATHER DATA FRAME FROM CSV\n",
    "weather = spark.read.csv(path=weather_file_loc, header=True, inferSchema=True)"
   ]
  },
  {
   "cell_type": "code",
   "execution_count": 4,
   "metadata": {
    "collapsed": false
   },
   "outputs": [
    {
     "name": "stdout",
     "output_type": "stream",
     "text": [
      "root\n",
      " |-- YEAR: integer (nullable = true)\n",
      " |-- MONTH: integer (nullable = true)\n",
      " |-- DAY_OF_MONTH: integer (nullable = true)\n",
      " |-- DAY_OF_WEEK: integer (nullable = true)\n",
      " |-- FL_DATE: timestamp (nullable = true)\n",
      " |-- UNIQUE_CARRIER: string (nullable = true)\n",
      " |-- TAIL_NUM: string (nullable = true)\n",
      " |-- FL_NUM: integer (nullable = true)\n",
      " |-- ORIGIN_AIRPORT_ID: integer (nullable = true)\n",
      " |-- ORIGIN: string (nullable = true)\n",
      " |-- ORIGIN_STATE_ABR: string (nullable = true)\n",
      " |-- DEST_AIRPORT_ID: integer (nullable = true)\n",
      " |-- DEST: string (nullable = true)\n",
      " |-- DEST_STATE_ABR: string (nullable = true)\n",
      " |-- CRS_DEP_TIME: integer (nullable = true)\n",
      " |-- DEP_TIME: string (nullable = true)\n",
      " |-- DEP_DELAY: string (nullable = true)\n",
      " |-- DEP_DELAY_NEW: string (nullable = true)\n",
      " |-- DEP_DEL15: string (nullable = true)\n",
      " |-- DEP_DELAY_GROUP: string (nullable = true)\n",
      " |-- TAXI_OUT: double (nullable = true)\n",
      " |-- WHEELS_OFF: integer (nullable = true)\n",
      " |-- WHEELS_ON: integer (nullable = true)\n",
      " |-- TAXI_IN: double (nullable = true)\n",
      " |-- CRS_ARR_TIME: integer (nullable = true)\n",
      " |-- ARR_TIME: string (nullable = true)\n",
      " |-- ARR_DELAY: string (nullable = true)\n",
      " |-- ARR_DELAY_NEW: string (nullable = true)\n",
      " |-- ARR_DEL15: string (nullable = true)\n",
      " |-- ARR_DELAY_GROUP: string (nullable = true)\n",
      " |-- CANCELLED: double (nullable = true)\n",
      " |-- CANCELLATION_CODE: string (nullable = true)\n",
      " |-- DIVERTED: double (nullable = true)\n",
      " |-- CRS_ELAPSED_TIME: string (nullable = true)\n",
      " |-- ACTUAL_ELAPSED_TIME: string (nullable = true)\n",
      " |-- AIR_TIME: double (nullable = true)\n",
      " |-- FLIGHTS: double (nullable = true)\n",
      " |-- DISTANCE: double (nullable = true)\n",
      " |-- DISTANCE_GROUP: integer (nullable = true)\n",
      " |-- CARRIER_DELAY: double (nullable = true)\n",
      " |-- WEATHER_DELAY: double (nullable = true)\n",
      " |-- NAS_DELAY: double (nullable = true)\n",
      " |-- SECURITY_DELAY: double (nullable = true)\n",
      " |-- LATE_AIRCRAFT_DELAY: double (nullable = true)\n",
      " |-- _c44: string (nullable = true)\n",
      "\n",
      "root\n",
      " |-- Visibility: string (nullable = true)\n",
      " |-- DryBulbCelsius: string (nullable = true)\n",
      " |-- DewPointCelsius: string (nullable = true)\n",
      " |-- RelativeHumidity: string (nullable = true)\n",
      " |-- WindSpeed: string (nullable = true)\n",
      " |-- Altimeter: string (nullable = true)\n",
      " |-- AdjustedYear: double (nullable = true)\n",
      " |-- AdjustedMonth: double (nullable = true)\n",
      " |-- AdjustedDay: integer (nullable = true)\n",
      " |-- AdjustedHour: integer (nullable = true)\n",
      " |-- AirportID: integer (nullable = true)"
     ]
    }
   ],
   "source": [
    "## CHECK SCHEMA OF TRIP AND FARE TABLES\n",
    "air.printSchema()\n",
    "weather.printSchema()"
   ]
  },
  {
   "cell_type": "markdown",
   "metadata": {},
   "source": [
    "#### Using Spark SQL to join, clean and featurize data"
   ]
  },
  {
   "cell_type": "code",
   "execution_count": 7,
   "metadata": {
    "collapsed": true
   },
   "outputs": [],
   "source": [
    "## REGISTER DATA-FRAMEs AS A TEMP-TABLEs IN SQL-CONTEXT\n",
    "air.createOrReplaceTempView(\"airline\")\n",
    "weather.createOrReplaceTempView(\"weather\")"
   ]
  },
  {
   "cell_type": "code",
   "execution_count": 8,
   "metadata": {
    "collapsed": false
   },
   "outputs": [],
   "source": [
    "## USING SQL: CLEAN AND MERGE AIR AND WEATHER DATA-SETS TO CREATE A JOINED DATA-FRAME\n",
    "\n",
    "# COUNT FLIGHTS BY AIRPORT\n",
    "spark.sql(\"SELECT ORIGIN, COUNT(*) as CTORIGIN FROM airline GROUP BY ORIGIN\").createOrReplaceTempView(\"countOrigin\")\n",
    "spark.sql(\"SELECT DEST, COUNT(*) as CTDEST FROM airline GROUP BY DEST\").createOrReplaceTempView(\"countDest\")\n",
    "\n",
    "## CLEAN AIRLINE DATA WITH QUERY, FILTER FOR AIRPORTS WHICH HAVE VERY FEW FLIGHTS (<100)\n",
    "sqlStatement = \"\"\"SELECT ARR_DEL15 as ArrDel15,  YEAR  as Year,\n",
    "                  MONTH as Month, DAY_OF_MONTH as DayOfMonth, DAY_OF_WEEK as DayOfWeek,\n",
    "                  UNIQUE_CARRIER as Carrier, ORIGIN_AIRPORT_ID as OriginAirportID, ORIGIN,\n",
    "                  DEST_AIRPORT_ID as DestAirportID, DEST, floor(CRS_DEP_TIME/100) as CRSDepTime,\n",
    "                  floor(CRS_ARR_TIME/100) as CRSArrTime\n",
    "                  FROM airline\n",
    "                  WHERE ARR_DEL15 in ('0.0', '1.0')\n",
    "                  AND ORIGIN IN (SELECT DISTINCT ORIGIN FROM countOrigin where CTORIGIN > 100)\n",
    "                  AND DEST IN (SELECT DISTINCT DEST FROM countDest where CTDEST > 100) \"\"\"\n",
    "airCleaned = spark.sql(sqlStatement)\n",
    "\n",
    "# REGISTER CLEANED AIR DATASET\n",
    "airCleaned.createOrReplaceTempView(\"airCleaned\")\n",
    "\n",
    "## CLEAN WEATHER DATA WITH QUERY\n",
    "sqlStatement = \"\"\"SELECT AdjustedYear, AdjustedMonth, AdjustedDay, AdjustedHour, AirportID,\n",
    "                            avg(Visibility) as Visibility, avg(DryBulbCelsius) as DryBulbCelsius, avg(DewPointCelsius) as DewPointCelsius,\n",
    "                            avg(RelativeHumidity) as RelativeHumidity, avg(WindSpeed) as WindSpeed, avg(Altimeter) as Altimeter\n",
    "                            FROM weather\n",
    "                            GROUP BY AdjustedYear, AdjustedMonth, AdjustedDay, AdjustedHour, AirportID\"\"\"\n",
    "weatherCleaned = spark.sql(sqlStatement)\n",
    "\n",
    "# REGISTER CLEANED AIR DATASET\n",
    "weatherCleaned.createOrReplaceTempView(\"weatherCleaned\")"
   ]
  },
  {
   "cell_type": "code",
   "execution_count": 9,
   "metadata": {
    "collapsed": false
   },
   "outputs": [],
   "source": [
    "# CREATE JOINED DATA SET AND REGISTER TABLE\n",
    "sqlStatement = \"\"\"SELECT a.ArrDel15, a.Year, a.Month, a.DayOfMonth, a.DayOfWeek, a.Carrier, a.OriginAirportID, \\\n",
    "                              a.ORIGIN, a.DestAirportID, a.DEST, a.CRSDepTime, b.Visibility as VisibilityOrigin, \\\n",
    "                              b.DryBulbCelsius as DryBulbCelsiusOrigin, b.DewPointCelsius as DewPointCelsiusOrigin,\n",
    "                              b.RelativeHumidity as RelativeHumidityOrigin, b.WindSpeed as WindSpeedOrigin, \\\n",
    "                              b.Altimeter as AltimeterOrigin, c.Visibility as VisibilityDest, \\\n",
    "                              c.DryBulbCelsius as DryBulbCelsiusDest, c.DewPointCelsius as DewPointCelsiusDest,\n",
    "                              c.RelativeHumidity as RelativeHumidityDest, c.WindSpeed as WindSpeedDest, \\\n",
    "                              c.Altimeter as AltimeterDest\n",
    "                              FROM airCleaned a, weatherCleaned b, weatherCleaned c\n",
    "                              WHERE a.Year = b.AdjustedYear and a.Year = c.AdjustedYear\n",
    "                              and a.Month = b.AdjustedMonth and a.Month = c.AdjustedMonth\n",
    "                              and a.DayofMonth = b.AdjustedDay and a.DayofMonth = c.AdjustedDay\n",
    "                              and a.CRSDepTime= b.AdjustedHour and a.CRSDepTime = c.AdjustedHour\n",
    "                              and a.OriginAirportID = b.AirportID and a.DestAirportID = c.AirportID\"\"\"\n",
    "\n",
    "# SEVERAL COLUMNS CONTAIN NULL VALUES, IT IS IMPORTANT TO FILTER FOR THOSE, OTHERWISE SOME TRANSFORMATIONS\n",
    "# WILL HAVE ERRORS LATER. HWERE WE SHOW HOW TO FILTER A DATA-FRAME USING SQL STATEMENT\n",
    "joined = spark.sql(sqlStatement).filter(\"VisibilityOrigin is not NULL and DryBulbCelsiusOrigin is not NULL \\\n",
    "                and DewPointCelsiusOrigin is not NULL and RelativeHumidityOrigin is not NULL \\\n",
    "                and WindSpeedOrigin is not NULL and AltimeterOrigin is not NULL \\\n",
    "                and VisibilityDest is not NULL and DryBulbCelsiusDest is not NULL \\\n",
    "                and DewPointCelsiusDest is not NULL and RelativeHumidityDest is not NULL \\\n",
    "                and WindSpeedDest is not NULL and AltimeterDest is not NULL \\\n",
    "                and ORIGIN is not NULL and DEST is not NULL \\\n",
    "                and OriginAirportID is not NULL and DestAirportID is not NULL \\\n",
    "                and CRSDepTime is not NULL and Year is not NULL and Month is not NULL \\\n",
    "                and DayOfMonth is not NULL and DayOfWeek is not NULL and Carrier is not NULL\")\n",
    "\n",
    "# REGISTER JOINED\n",
    "joined.createOrReplaceTempView(\"joined\")"
   ]
  },
  {
   "cell_type": "code",
   "execution_count": 10,
   "metadata": {
    "collapsed": false
   },
   "outputs": [
    {
     "name": "stdout",
     "output_type": "stream",
     "text": [
      "+--------+-------------------+-----------+\n",
      "|database|          tableName|isTemporary|\n",
      "+--------+-------------------+-----------+\n",
      "| default|    hivesampletable|      false|\n",
      "| default|        kp_products|      false|\n",
      "| default|kp_products_parquet|      false|\n",
      "| default|    kp_products_uds|      false|\n",
      "|        |         aircleaned|       true|\n",
      "|        |            airline|       true|\n",
      "|        |          countdest|       true|\n",
      "|        |        countorigin|       true|\n",
      "|        |             joined|       true|\n",
      "|        |            weather|       true|\n",
      "|        |     weathercleaned|       true|\n",
      "+--------+-------------------+-----------+"
     ]
    }
   ],
   "source": [
    "## SHOW WHICH TABLES ARE REGISTERED IN SQL-CONTEXT\n",
    "spark.sql(\"show tables\").show()"
   ]
  },
  {
   "cell_type": "markdown",
   "metadata": {},
   "source": [
    "#### Split data by year, 2011 for training and 2012 for validation"
   ]
  },
  {
   "cell_type": "code",
   "execution_count": 11,
   "metadata": {
    "collapsed": true
   },
   "outputs": [],
   "source": [
    "# CREATE TRAINING DATA AND VALIDATION DATA\n",
    "sqlStatement = \"\"\"SELECT * from joined WHERE Year = 2011\"\"\"\n",
    "train = spark.sql(sqlStatement)\n",
    "\n",
    "# REGISTER JOINED\n",
    "sqlStatement = \"\"\"SELECT * from joined WHERE Year = 2012\"\"\"\n",
    "validation = spark.sql(sqlStatement)"
   ]
  },
  {
   "cell_type": "markdown",
   "metadata": {},
   "source": [
    "#### Save in blob"
   ]
  },
  {
   "cell_type": "code",
   "execution_count": 12,
   "metadata": {
    "collapsed": false
   },
   "outputs": [],
   "source": [
    "# SAVE JOINED DATA IN BLOB\n",
    "trainfilename = dataDir + \"TrainData\";\n",
    "train.write.mode(\"overwrite\").parquet(trainfilename)\n",
    "\n",
    "validfilename = dataDir + \"ValidationData\";\n",
    "validation.write.mode(\"overwrite\").parquet(validfilename)"
   ]
  },
  {
   "cell_type": "code",
   "execution_count": 13,
   "metadata": {
    "collapsed": false
   },
   "outputs": [
    {
     "name": "stdout",
     "output_type": "stream",
     "text": [
      "'wasb:///HdiSamples/HdiSamples/Airline/TrainData'"
     ]
    }
   ],
   "source": [
    "trainfilename"
   ]
  },
  {
   "cell_type": "markdown",
   "metadata": {},
   "source": [
    "\n",
    "----------------------------------\n",
    "## Data ingestion: Read in the training data from parquet file"
   ]
  },
  {
   "cell_type": "code",
   "execution_count": 14,
   "metadata": {
    "collapsed": false
   },
   "outputs": [],
   "source": [
    "## READ IN DATA FRAME FROM CSV\n",
    "trainfilename = dataDir + \"TrainData\";\n",
    "train_df = spark.read.parquet(trainfilename)\n",
    "\n",
    "## PERSIST AND MATERIALIZE DF IN MEMORY    \n",
    "train_df.persist()\n",
    "train_df.count()\n",
    "\n",
    "## REGISTER DATA-FRAME AS A TEMP-TABLE IN SQL-CONTEXT\n",
    "train_df.createOrReplaceTempView(\"train\")"
   ]
  },
  {
   "cell_type": "code",
   "execution_count": 15,
   "metadata": {
    "collapsed": false
   },
   "outputs": [
    {
     "name": "stdout",
     "output_type": "stream",
     "text": [
      "root\n",
      " |-- ArrDel15: string (nullable = true)\n",
      " |-- Year: integer (nullable = true)\n",
      " |-- Month: integer (nullable = true)\n",
      " |-- DayOfMonth: integer (nullable = true)\n",
      " |-- DayOfWeek: integer (nullable = true)\n",
      " |-- Carrier: string (nullable = true)\n",
      " |-- OriginAirportID: integer (nullable = true)\n",
      " |-- ORIGIN: string (nullable = true)\n",
      " |-- DestAirportID: integer (nullable = true)\n",
      " |-- DEST: string (nullable = true)\n",
      " |-- CRSDepTime: long (nullable = true)\n",
      " |-- VisibilityOrigin: double (nullable = true)\n",
      " |-- DryBulbCelsiusOrigin: double (nullable = true)\n",
      " |-- DewPointCelsiusOrigin: double (nullable = true)\n",
      " |-- RelativeHumidityOrigin: double (nullable = true)\n",
      " |-- WindSpeedOrigin: double (nullable = true)\n",
      " |-- AltimeterOrigin: double (nullable = true)\n",
      " |-- VisibilityDest: double (nullable = true)\n",
      " |-- DryBulbCelsiusDest: double (nullable = true)\n",
      " |-- DewPointCelsiusDest: double (nullable = true)\n",
      " |-- RelativeHumidityDest: double (nullable = true)\n",
      " |-- WindSpeedDest: double (nullable = true)\n",
      " |-- AltimeterDest: double (nullable = true)"
     ]
    }
   ],
   "source": [
    "train_df.printSchema()"
   ]
  },
  {
   "cell_type": "markdown",
   "metadata": {},
   "source": [
    "\n",
    "----------------------------------\n",
    "## Data exploration & visualization: Plotting of target variables and features"
   ]
  },
  {
   "cell_type": "markdown",
   "metadata": {},
   "source": [
    "#### First, summarize data using SQL, this outputs a Spark data frame. If the data-set is too large, it can be sampled\n",
    "NOTE: -m sample indicates that the datafame is being randomly sampled, -r 0.5 indicates 50% of rows are sampled, and -n -1 indicates all the rows are returned after sampling, prior to the spark dataframe being returned to local memory of head-node as pandas dataframe."
   ]
  },
  {
   "cell_type": "code",
   "execution_count": 16,
   "metadata": {
    "collapsed": false
   },
   "outputs": [],
   "source": [
    "%%sql -q -o sqlResultsPD -m sample -r 0.5 -n -1\n",
    "SELECT ArrDel15, WindSpeedDest, WindSpeedOrigin FROM train"
   ]
  },
  {
   "cell_type": "markdown",
   "metadata": {},
   "source": [
    "#### Plot histogram of tip amount, relationship between tip amount vs. other features"
   ]
  },
  {
   "cell_type": "code",
   "execution_count": 17,
   "metadata": {
    "collapsed": false
   },
   "outputs": [
    {
     "data": {
      "image/png": "[encoded data removed]",
      "text/plain": [
       "<matplotlib.figure.Figure at 0x7f4cecacfcd0>"
      ]
     },
     "metadata": {},
     "output_type": "display_data"
    },
    {
     "data": {
      "text/plain": [
       "<matplotlib.figure.Figure at 0x7f4cca065250>"
      ]
     },
     "metadata": {},
     "output_type": "display_data"
    },
    {
     "data": {
      "image/png": "[encoded data removed]",
      "text/plain": [
       "<matplotlib.figure.Figure at 0x7f4ceccc6850>"
      ]
     },
     "metadata": {},
     "output_type": "display_data"
    },
    {
     "data": {
      "text/plain": [
       "<matplotlib.figure.Figure at 0x7f4ceccc67d0>"
      ]
     },
     "metadata": {},
     "output_type": "display_data"
    }
   ],
   "source": [
    "%%local\n",
    "%matplotlib inline\n",
    "import matplotlib.pyplot as plt\n",
    "## %%local creates a pandas data-frame on the head node memory, from spark data-frame, \n",
    "## which can then be used for plotting. Here, sampling data is a good idea, depending on the memory of the head node\n",
    "\n",
    "# TIP BY PAYMENT TYPE AND PASSENGER COUNT\n",
    "ax1 = sqlResultsPD[['WindSpeedDest']].plot(kind='hist', bins=25, facecolor='lightblue')\n",
    "ax1.set_title('WindSpeed @ Destination distribution')\n",
    "ax1.set_xlabel('WindSpeedDest'); ax1.set_ylabel('Counts');\n",
    "plt.figure(figsize=(4,4)); plt.suptitle(''); plt.show()\n",
    "\n",
    "# TIP BY PASSENGER COUNT\n",
    "ax2 = sqlResultsPD.boxplot(column=['WindSpeedDest'], by=['ArrDel15'])\n",
    "ax2.set_title('WindSpeed Destination')\n",
    "ax2.set_xlabel('ArrDel15'); ax2.set_ylabel('WindSpeed');\n",
    "plt.figure(figsize=(4,4)); plt.suptitle(''); plt.show()"
   ]
  },
  {
   "cell_type": "markdown",
   "metadata": {},
   "source": [
    "\n",
    "----------------------------------\n",
    "## Feature engineering, transformation and data preparation for modeling"
   ]
  },
  {
   "cell_type": "markdown",
   "metadata": {},
   "source": [
    "#### Split data into train/test. Training fraction will be used to create model, and testing fraction will be used to evaluate model."
   ]
  },
  {
   "cell_type": "code",
   "execution_count": 18,
   "metadata": {
    "collapsed": false
   },
   "outputs": [],
   "source": [
    "trainingFraction = 0.75; testingFraction = (1-trainingFraction);\n",
    "seed = 1234;\n",
    "\n",
    "# SPLIT SAMPLED DATA-FRAME INTO TRAIN/TEST, WITH A RANDOM COLUMN ADDED FOR DOING CV (SHOWN LATER)\n",
    "trainPartition, testPartition = train_df.randomSplit([trainingFraction, testingFraction], seed=seed);\n",
    "\n",
    "# CACHE DATA FRAMES IN MEMORY\n",
    "trainPartition.persist(); trainPartition.count()\n",
    "testPartition.persist(); testPartition.count()\n",
    "\n",
    "trainPartition.createOrReplaceTempView(\"TrainPartition\")\n",
    "testPartition.createOrReplaceTempView(\"TestPartition\")"
   ]
  },
  {
   "cell_type": "code",
   "execution_count": 19,
   "metadata": {
    "collapsed": false
   },
   "outputs": [
    {
     "data": {
      "text/html": [
       "Current session configs: <tt>{u'kind': 'pyspark3', u'name': u'remotesparkmagics'}</tt><br>"
      ],
      "text/plain": [
       "<IPython.core.display.HTML object>"
      ]
     },
     "metadata": {},
     "output_type": "display_data"
    },
    {
     "data": {
      "text/html": [
       "<table>\n",
       "<tr><th>ID</th><th>YARN Application ID</th><th>Kind</th><th>State</th><th>Spark UI</th><th>Driver log</th><th>Current session?</th></tr><tr><td>3</td><td>application_1536324999560_0004</td><td>pyspark</td><td>idle</td><td><a target=\"_blank\" href=\"http://hn0-hdieas.an1rqrunnmpefkns41tel1bbec.bx.internal.cloudapp.net:8088/proxy/application_1536324999560_0004/\">Link</a></td><td><a target=\"_blank\" href=\"http://wn0-hdieas.an1rqrunnmpefkns41tel1bbec.bx.internal.cloudapp.net:30060/node/containerlogs/container_e01_1536324999560_0004_01_000001/livy\">Link</a></td><td></td></tr><tr><td>4</td><td>application_1536324999560_0005</td><td>pyspark</td><td>idle</td><td><a target=\"_blank\" href=\"http://hn0-hdieas.an1rqrunnmpefkns41tel1bbec.bx.internal.cloudapp.net:8088/proxy/application_1536324999560_0005/\">Link</a></td><td><a target=\"_blank\" href=\"http://wn0-hdieas.an1rqrunnmpefkns41tel1bbec.bx.internal.cloudapp.net:30060/node/containerlogs/container_e01_1536324999560_0005_01_000001/livy\">Link</a></td><td>✔</td></tr></table>"
      ],
      "text/plain": [
       "<IPython.core.display.HTML object>"
      ]
     },
     "metadata": {},
     "output_type": "display_data"
    }
   ],
   "source": [
    "%%info"
   ]
  },
  {
   "cell_type": "markdown",
   "metadata": {},
   "source": [
    "#### Filter out null values, and filter test data by categories of features to ensure transformations trained on test data will fit the the test data"
   ]
  },
  {
   "cell_type": "code",
   "execution_count": 20,
   "metadata": {
    "collapsed": false
   },
   "outputs": [],
   "source": [
    "## EXAMPLES BELOW ALSO SHOW HOW TO USE SQL DIRECTLY ON DATAFRAMES\n",
    "trainPartitionFilt = trainPartition.filter(\"ArrDel15 is not NULL and DayOfMonth is not NULL and DayOfWeek is not NULL \\\n",
    "                and Carrier is not NULL and OriginAirportID is not NULL and DestAirportID is not NULL \\\n",
    "                and CRSDepTime is not NULL and VisibilityOrigin is not NULL and DryBulbCelsiusOrigin is not NULL \\\n",
    "                and DewPointCelsiusOrigin is not NULL and RelativeHumidityOrigin is not NULL \\\n",
    "                and WindSpeedOrigin is not NULL and AltimeterOrigin is not NULL \\\n",
    "                and VisibilityDest is not NULL and DryBulbCelsiusDest is not NULL \\\n",
    "                and DewPointCelsiusDest is not NULL and RelativeHumidityDest is not NULL \\\n",
    "                and WindSpeedDest is not NULL and AltimeterDest is not NULL \")\n",
    "trainPartitionFilt.persist(); trainPartitionFilt.count()\n",
    "trainPartitionFilt.createOrReplaceTempView(\"TrainPartitionFilt\")\n",
    "\n",
    "testPartitionFilt = testPartition.filter(\"ArrDel15 is not NULL and DayOfMonth is not NULL and DayOfWeek is not NULL \\\n",
    "                and Carrier is not NULL and OriginAirportID is not NULL and DestAirportID is not NULL \\\n",
    "                and CRSDepTime is not NULL and VisibilityOrigin is not NULL and DryBulbCelsiusOrigin is not NULL \\\n",
    "                and DewPointCelsiusOrigin is not NULL and RelativeHumidityOrigin is not NULL \\\n",
    "                and WindSpeedOrigin is not NULL and AltimeterOrigin is not NULL \\\n",
    "                and VisibilityDest is not NULL and DryBulbCelsiusDest is not NULL \\\n",
    "                and DewPointCelsiusDest is not NULL and RelativeHumidityDest is not NULL \\\n",
    "                and WindSpeedDest is not NULL and AltimeterDest is not NULL\") \\\n",
    "                .filter(\"OriginAirportID IN (SELECT distinct OriginAirportID FROM TrainPartitionFilt) \\\n",
    "                    AND ORIGIN IN (SELECT distinct ORIGIN FROM TrainPartitionFilt) \\\n",
    "                    AND DestAirportID IN (SELECT distinct DestAirportID FROM TrainPartitionFilt) \\\n",
    "                    AND DEST IN (SELECT distinct DEST FROM TrainPartitionFilt) \\\n",
    "                    AND Carrier IN (SELECT distinct Carrier FROM TrainPartitionFilt) \\\n",
    "                    AND CRSDepTime IN (SELECT distinct CRSDepTime FROM TrainPartitionFilt) \\\n",
    "                    AND DayOfMonth in (SELECT distinct DayOfMonth FROM TrainPartitionFilt) \\\n",
    "                    AND DayOfWeek in (SELECT distinct DayOfWeek FROM TrainPartitionFilt)\")\n",
    "testPartitionFilt.persist(); testPartitionFilt.count()\n",
    "testPartitionFilt.createOrReplaceTempView(\"TestPartitionFilt\")"
   ]
  },
  {
   "cell_type": "markdown",
   "metadata": {},
   "source": [
    "#### Indexing features using pipeline transformations"
   ]
  },
  {
   "cell_type": "code",
   "execution_count": 21,
   "metadata": {
    "collapsed": false
   },
   "outputs": [
    {
     "name": "stdout",
     "output_type": "stream",
     "text": [
      "213814"
     ]
    }
   ],
   "source": [
    "# TRANSFORM SOME FEATURES BASED ON MLLIB TRANSFORMATION FUNCTIONS\n",
    "from pyspark.ml import Pipeline\n",
    "from pyspark.ml.feature import StringIndexer, VectorIndexer, Bucketizer, Binarizer\n",
    "\n",
    "sI0 = StringIndexer(inputCol = 'ArrDel15', outputCol = 'ArrDel15_ind'); bin0 = Binarizer(inputCol = 'ArrDel15_ind', outputCol = 'ArrDel15_bin', threshold = 0.5);\n",
    "sI1 = StringIndexer(inputCol=\"Carrier\", outputCol=\"Carrier_ind\");\n",
    "transformPipeline = Pipeline(stages=[sI0, bin0, sI1]);\n",
    "\n",
    "transformedTrain = transformPipeline.fit(trainPartition).transform(trainPartitionFilt)\n",
    "transformedTest = transformPipeline.fit(trainPartition).transform(testPartitionFilt)\n",
    "\n",
    "transformedTrain.persist(); transformedTrain.count();\n",
    "transformedTest.persist(); transformedTest.count();"
   ]
  },
  {
   "cell_type": "markdown",
   "metadata": {},
   "source": [
    "\n",
    "----------------------------------\n",
    "## Train a regression model: Predict the amount of tip paid for taxi trips"
   ]
  },
  {
   "cell_type": "markdown",
   "metadata": {},
   "source": [
    "### Define the training formula and transformations that's to be applied to all training pipelines"
   ]
  },
  {
   "cell_type": "code",
   "execution_count": 22,
   "metadata": {
    "collapsed": true
   },
   "outputs": [],
   "source": [
    "from pyspark.ml.feature import RFormula\n",
    "\n",
    "## DEFINE REGRESSION FURMULA\n",
    "regFormula = RFormula(formula=\"ArrDel15_ind ~ \\\n",
    "                        DayOfMonth + DayOfWeek + Carrier_ind + OriginAirportID + DestAirportID + CRSDepTime \\\n",
    "                        + VisibilityOrigin + DryBulbCelsiusOrigin + DewPointCelsiusOrigin \\\n",
    "                        + RelativeHumidityOrigin + WindSpeedOrigin + AltimeterOrigin \\\n",
    "                        + VisibilityDest + DryBulbCelsiusDest + DewPointCelsiusDest \\\n",
    "                        + RelativeHumidityDest + WindSpeedDest + AltimeterDest\");\n",
    "\n",
    "## DEFINE INDEXER FOR CATEGORIAL VARIABLES\n",
    "## NOTE: Some categorical features (such as origin and destination airports have > 240 categories, which is why \n",
    "## maxCategories is set to 250)\n",
    "featureIndexer = VectorIndexer(inputCol=\"features\", outputCol=\"indexedFeatures\", maxCategories=250)"
   ]
  },
  {
   "cell_type": "markdown",
   "metadata": {},
   "source": [
    "### Train Elastic Net classification model, and evaluate performance on test data"
   ]
  },
  {
   "cell_type": "code",
   "execution_count": 24,
   "metadata": {
    "collapsed": false
   },
   "outputs": [],
   "source": [
    "from pyspark.ml.classification import LogisticRegression\n",
    "#from pyspark.mllib.evaluation import BinaryClassificationMetrics\n",
    "from sklearn.metrics import roc_curve,auc\n",
    "\n",
    "## DEFINE ELASTIC NET REGRESSOR\n",
    "eNet = LogisticRegression(featuresCol=\"indexedFeatures\", maxIter=25, regParam=0.01, elasticNetParam=0.5)\n",
    "\n",
    "## TRAINING PIPELINE: Fit model, with formula and other transformations\n",
    "model = Pipeline(stages=[regFormula, featureIndexer, eNet]).fit(transformedTrain)\n",
    "\n",
    "# SAVE MODEL\n",
    "datestamp = datetime.datetime.now().strftime('%m-%d-%Y-%s');\n",
    "fileName = \"logisticRegModel_\" + datestamp;\n",
    "logRegDirfilename = modelDir + fileName;\n",
    "model.save(logRegDirfilename)\n",
    "\n",
    "## Evaluate model on test set\n",
    "predictions = model.transform(transformedTest)\n",
    "predictionAndLabels = predictions.select(\"label\",\"prediction\").rdd\n",
    "predictions.select(\"label\",\"probability\").createOrReplaceTempView(\"tmp_results\")\n",
    "\n",
    "#metrics = BinaryClassificationMetrics(predictionAndLabels)\n",
    "#print(\"Area under ROC = %s\" % metrics.areaUnderROC)"
   ]
  },
  {
   "cell_type": "code",
   "execution_count": null,
   "metadata": {
    "collapsed": true
   },
   "outputs": [],
   "source": [
    "from pyspark.ml.evaluation import BinaryClassificationEvaluator\n",
    "evaluator = BinaryClassificationEvaluator()\n",
    "auc = evaluator.evaluate(predictions)\n",
    "print(\"AUC: {}\".format(auc))"
   ]
  },
  {
   "cell_type": "markdown",
   "metadata": {},
   "source": [
    "#### Bring predictions to the local pandas dataframe for plotting using matplotlib\n",
    "NOTE: -n -1 means all of the data from predictions_pddf are brought to the local dataframe [You cannot do this for large dataframes]"
   ]
  },
  {
   "cell_type": "code",
   "execution_count": 27,
   "metadata": {
    "collapsed": true
   },
   "outputs": [],
   "source": [
    "%%sql -q -o predictions_pddf -n -1\n",
    "SELECT label, probability from tmp_results"
   ]
  },
  {
   "cell_type": "code",
   "execution_count": 24,
   "metadata": {
    "collapsed": false
   },
   "outputs": [
    {
     "data": {
      "image/png": "[encoded data removed]",
      "text/plain": [
       "<matplotlib.figure.Figure at 0x7f367a739b10>"
      ]
     },
     "metadata": {},
     "output_type": "display_data"
    }
   ],
   "source": [
    "%%local\n",
    "## PLOT ROC CURVE AFTER CONVERTING PREDICTIONS TO A PANDAS DATA FRAME\n",
    "from sklearn.metrics import roc_curve,auc\n",
    "import matplotlib.pyplot as plt\n",
    "%matplotlib inline\n",
    "\n",
    "labels = predictions_pddf[\"label\"]\n",
    "prob = []\n",
    "for dv in predictions_pddf[\"probability\"]:\n",
    "    prob.append(list(dv.values())[1][1])\n",
    "    \n",
    "fpr, tpr, thresholds = roc_curve(labels, prob, pos_label=1);\n",
    "roc_auc = auc(fpr, tpr)\n",
    "\n",
    "plt.figure(figsize=(5,5))\n",
    "plt.plot(fpr, tpr, label='ROC curve (area = %0.2f)' % roc_auc)\n",
    "plt.plot([0, 1], [0, 1], 'k--')\n",
    "plt.xlim([0.0, 1.0]); plt.ylim([0.0, 1.05]);\n",
    "plt.xlabel('False Positive Rate'); plt.ylabel('True Positive Rate');\n",
    "plt.title('ROC Curve'); plt.legend(loc=\"lower right\");\n",
    "plt.show()"
   ]
  },
  {
   "cell_type": "markdown",
   "metadata": {},
   "source": [
    "### Train Gradient Boosting Tree binary classification model, and evaluate performance on test data"
   ]
  },
  {
   "cell_type": "code",
   "execution_count": 39,
   "metadata": {
    "collapsed": false
   },
   "outputs": [
    {
     "name": "stdout",
     "output_type": "stream",
     "text": [
      "Area under ROC = 0.7369255957114815"
     ]
    }
   ],
   "source": [
    "from pyspark.ml.regression import GBTRegressor\n",
    "\n",
    "## DEFINE GRADIENT BOOSTING TREE CLASSIFIER\n",
    "gBT = GBTRegressor(featuresCol=\"indexedFeatures\", maxIter=10, maxBins = 250)\n",
    "\n",
    "## TRAINING PIPELINE: Fit model, with formula and other transformations\n",
    "model = Pipeline(stages=[regFormula, featureIndexer, gBT]).fit(transformedTrain)\n",
    "\n",
    "# SAVE MODEL\n",
    "datestamp = datetime.datetime.now().strftime('%m-%d-%Y-%s');\n",
    "fileName = \"gbtModel_\" + datestamp;\n",
    "gbtDirfilename = modelDir + fileName;\n",
    "model.save(gbtDirfilename)\n",
    "\n",
    "## Evaluate model on test set\n",
    "predictions = model.transform(transformedTest)\n",
    "predictionAndLabels = predictions.select(\"label\",\"prediction\").rdd\n",
    "\n",
    "metrics = BinaryClassificationMetrics(predictionAndLabels)\n",
    "print(\"Area under ROC = %s\" % metrics.areaUnderROC)"
   ]
  },
  {
   "cell_type": "markdown",
   "metadata": {},
   "source": [
    "### Train a random forest binary classification model using the Pipeline function, save, and evaluate on test data set"
   ]
  },
  {
   "cell_type": "code",
   "execution_count": 42,
   "metadata": {
    "collapsed": false
   },
   "outputs": [
    {
     "name": "stdout",
     "output_type": "stream",
     "text": [
      "Area under ROC = 0.7474663414748935"
     ]
    }
   ],
   "source": [
    "from pyspark.ml.classification import RandomForestClassifier\n",
    "\n",
    "## DEFINE RANDOM FOREST CLASSIFIER\n",
    "randForest = RandomForestClassifier(featuresCol = 'indexedFeatures', labelCol = 'label', numTrees=20, \\\n",
    "                                   maxDepth=6, maxBins=250)\n",
    "\n",
    "## TRAINING PIPELINE: Fit model, with formula and other transformations\n",
    "model = Pipeline(stages=[regFormula, featureIndexer, randForest]).fit(transformedTrain)\n",
    "\n",
    "# SAVE MODEL\n",
    "datestamp = datetime.datetime.now().strftime('%m-%d-%Y-%s');\n",
    "fileName = \"rfModel_\" + datestamp;\n",
    "rfDirfilename = modelDir + fileName;\n",
    "model.save(rfDirfilename)\n",
    "\n",
    "## Evaluate model on test set\n",
    "predictions = model.transform(transformedTest)\n",
    "predictionAndLabels = predictions.select(\"label\",\"prediction\").rdd\n",
    "\n",
    "metrics = BinaryClassificationMetrics(predictionAndLabels)\n",
    "print(\"Area under ROC = %s\" % metrics.areaUnderROC)"
   ]
  },
  {
   "cell_type": "markdown",
   "metadata": {},
   "source": [
    "\n",
    "----------------------------------\n",
    "## Hyper-parameter tuning: Train a random forest model using cross-validation"
   ]
  },
  {
   "cell_type": "code",
   "execution_count": 44,
   "metadata": {
    "collapsed": false
   },
   "outputs": [
    {
     "name": "stdout",
     "output_type": "stream",
     "text": [
      "Area under ROC = 0.755388760846736"
     ]
    }
   ],
   "source": [
    "from pyspark.ml.tuning import CrossValidator, ParamGridBuilder\n",
    "from pyspark.ml.evaluation import BinaryClassificationEvaluator\n",
    "\n",
    "## DEFINE RANDOM FOREST MODELS\n",
    "## DEFINE RANDOM FOREST CLASSIFIER\n",
    "randForest = RandomForestClassifier(featuresCol = 'indexedFeatures', labelCol = 'label', numTrees=20, \\\n",
    "                                   maxDepth=6, maxBins=250)\n",
    "\n",
    "\n",
    "## DEFINE MODELING PIPELINE, INCLUDING FORMULA, FEATURE TRANSFORMATIONS, AND ESTIMATOR\n",
    "pipeline = Pipeline(stages=[regFormula, featureIndexer, randForest])\n",
    "\n",
    "## DEFINE PARAMETER GRID FOR RANDOM FOREST\n",
    "paramGrid = ParamGridBuilder() \\\n",
    "    .addGrid(randForest.numTrees, [10, 25, 50]) \\\n",
    "    .addGrid(randForest.maxDepth, [3, 5, 7]) \\\n",
    "    .build()\n",
    "\n",
    "## DEFINE CROSS VALIDATION\n",
    "crossval = CrossValidator(estimator=pipeline,\n",
    "                          estimatorParamMaps=paramGrid,\n",
    "                          evaluator=BinaryClassificationEvaluator(metricName=\"areaUnderROC\"),\n",
    "                          numFolds=3)\n",
    "\n",
    "## TRAIN MODEL USING CV\n",
    "cvModel = crossval.fit(transformedTrain)\n",
    "\n",
    "## Evaluate model on test set\n",
    "predictions = cvModel.transform(transformedTest)\n",
    "predictionAndLabels = predictions.select(\"label\",\"prediction\").rdd\n",
    "metrics = BinaryClassificationMetrics(predictionAndLabels)\n",
    "print(\"Area under ROC = %s\" % metrics.areaUnderROC)\n",
    "\n",
    "## SAVE THE BEST MODEL\n",
    "datestamp = datetime.datetime.now().strftime('%m-%d-%Y-%s');\n",
    "fileName = \"CV_RandomForestRegressionModel_\" + datestamp;\n",
    "CVDirfilename = modelDir + fileName;\n",
    "cvModel.bestModel.save(CVDirfilename);"
   ]
  },
  {
   "cell_type": "markdown",
   "metadata": {},
   "source": [
    "\n",
    "----------------------------------\n",
    "## Load a saved pipeline model and evaluate it on test data set"
   ]
  },
  {
   "cell_type": "code",
   "execution_count": 43,
   "metadata": {
    "collapsed": false
   },
   "outputs": [
    {
     "name": "stdout",
     "output_type": "stream",
     "text": [
      "Area under ROC = 0.6811543852577218"
     ]
    }
   ],
   "source": [
    "from pyspark.ml import PipelineModel\n",
    "\n",
    "savedModel = PipelineModel.load(logRegDirfilename)\n",
    "\n",
    "## Evaluate model on test set\n",
    "predictions = savedModel.transform(transformedTest)\n",
    "predictionAndLabels = predictions.select(\"label\",\"prediction\").rdd\n",
    "metrics = BinaryClassificationMetrics(predictionAndLabels)\n",
    "print(\"Area under ROC = %s\" % metrics.areaUnderROC)"
   ]
  },
  {
   "cell_type": "markdown",
   "metadata": {},
   "source": [
    "## Load and transform an independent validation data-set, and evaluate the saved pipeline model"
   ]
  },
  {
   "cell_type": "markdown",
   "metadata": {},
   "source": [
    "### Note that this validation data, by design, has a different format than the original trainig data. By grangling and transformations, we make the data format the same as the training data for the purpose of scoring."
   ]
  },
  {
   "cell_type": "code",
   "execution_count": 55,
   "metadata": {
    "collapsed": false
   },
   "outputs": [
    {
     "name": "stdout",
     "output_type": "stream",
     "text": [
      "root\n",
      " |-- ArrDel15: string (nullable = true)\n",
      " |-- Year: integer (nullable = true)\n",
      " |-- Month: integer (nullable = true)\n",
      " |-- DayOfMonth: integer (nullable = true)\n",
      " |-- DayOfWeek: integer (nullable = true)\n",
      " |-- Carrier: string (nullable = true)\n",
      " |-- OriginAirportID: integer (nullable = true)\n",
      " |-- ORIGIN: string (nullable = true)\n",
      " |-- DestAirportID: integer (nullable = true)\n",
      " |-- DEST: string (nullable = true)\n",
      " |-- CRSDepTime: long (nullable = true)\n",
      " |-- VisibilityOrigin: double (nullable = true)\n",
      " |-- DryBulbCelsiusOrigin: double (nullable = true)\n",
      " |-- DewPointCelsiusOrigin: double (nullable = true)\n",
      " |-- RelativeHumidityOrigin: double (nullable = true)\n",
      " |-- WindSpeedOrigin: double (nullable = true)\n",
      " |-- AltimeterOrigin: double (nullable = true)\n",
      " |-- VisibilityDest: double (nullable = true)\n",
      " |-- DryBulbCelsiusDest: double (nullable = true)\n",
      " |-- DewPointCelsiusDest: double (nullable = true)\n",
      " |-- RelativeHumidityDest: double (nullable = true)\n",
      " |-- WindSpeedDest: double (nullable = true)\n",
      " |-- AltimeterDest: double (nullable = true)"
     ]
    }
   ],
   "source": [
    "## READ IN DATA FRAME FROM PARQUET\n",
    "validfilename = dataDir + \"ValidationData\";\n",
    "validPartition = spark.read.parquet(validfilename)\n",
    "validPartition.persist(); validPartition.count()\n",
    "validPartition.printSchema()"
   ]
  },
  {
   "cell_type": "markdown",
   "metadata": {},
   "source": [
    "#### It is a good idea to filter the validation dataset for null values, as well as, categorical values not observed in the training data set. Otherwise, errors could be thrown at scoring time"
   ]
  },
  {
   "cell_type": "code",
   "execution_count": 50,
   "metadata": {
    "collapsed": false
   },
   "outputs": [],
   "source": [
    "validPartitionFilt = validPartition.filter(\"ArrDel15 is not NULL and DayOfMonth is not NULL and DayOfWeek is not NULL \\\n",
    "                and Carrier is not NULL and OriginAirportID is not NULL and DestAirportID is not NULL \\\n",
    "                and CRSDepTime is not NULL and VisibilityOrigin is not NULL and DryBulbCelsiusOrigin is not NULL \\\n",
    "                and DewPointCelsiusOrigin is not NULL and RelativeHumidityOrigin is not NULL \\\n",
    "                and WindSpeedOrigin is not NULL and AltimeterOrigin is not NULL \\\n",
    "                and VisibilityDest is not NULL and DryBulbCelsiusDest is not NULL \\\n",
    "                and DewPointCelsiusDest is not NULL and RelativeHumidityDest is not NULL \\\n",
    "                and WindSpeedDest is not NULL and AltimeterDest is not NULL\") \\\n",
    "                .filter(\"OriginAirportID IN (SELECT distinct OriginAirportID FROM TrainPartitionFilt) \\\n",
    "                    AND ORIGIN IN (SELECT distinct ORIGIN FROM TrainPartitionFilt) \\\n",
    "                    AND DestAirportID IN (SELECT distinct DestAirportID FROM TrainPartitionFilt) \\\n",
    "                    AND DEST IN (SELECT distinct DEST FROM TrainPartitionFilt) \\\n",
    "                    AND Carrier IN (SELECT distinct Carrier FROM TrainPartitionFilt) \\\n",
    "                    AND CRSDepTime IN (SELECT distinct CRSDepTime FROM TrainPartitionFilt) \\\n",
    "                    AND DayOfMonth in (SELECT distinct DayOfMonth FROM TrainPartitionFilt) \\\n",
    "                    AND DayOfWeek in (SELECT distinct DayOfWeek FROM TrainPartitionFilt)\")\n",
    "validPartitionFilt.persist(); validPartitionFilt.count()\n",
    "validPartitionFilt.createOrReplaceTempView(\"ValidPartitionFilt\")"
   ]
  },
  {
   "cell_type": "markdown",
   "metadata": {},
   "source": [
    "#### We need to apply the same transformation to the validation data as the ones that were applied to the training set, as in the transformPipeline function defined above"
   ]
  },
  {
   "cell_type": "code",
   "execution_count": 52,
   "metadata": {
    "collapsed": true
   },
   "outputs": [],
   "source": [
    "transformedValid = transformPipeline.fit(trainPartition).transform(validPartitionFilt)"
   ]
  },
  {
   "cell_type": "markdown",
   "metadata": {},
   "source": [
    "#### Load saved model, score validation data and evaluate"
   ]
  },
  {
   "cell_type": "code",
   "execution_count": 70,
   "metadata": {
    "collapsed": false
   },
   "outputs": [
    {
     "name": "stdout",
     "output_type": "stream",
     "text": [
      "Area under ROC = 0.6944995086466054"
     ]
    }
   ],
   "source": [
    "savedModel = PipelineModel.load(logRegDirfilename)\n",
    "predictions = savedModel.transform(transformedValid)\n",
    "predictionAndLabels = predictions.select(\"label\",\"prediction\").rdd\n",
    "metrics = BinaryClassificationMetrics(predictionAndLabels)\n",
    "print(\"Area under ROC = %s\" % metrics.areaUnderROC)"
   ]
  }
 ],
 "metadata": {
  "anaconda-cloud": {},
  "celltoolbar": "Raw Cell Format",
  "kernelspec": {
   "display_name": "PySpark3",
   "language": "",
   "name": "pyspark3kernel"
  },
  "language_info": {
   "codemirror_mode": {
    "name": "python",
    "version": 3
   },
   "mimetype": "text/x-python",
   "name": "pyspark3",
   "pygments_lexer": "python3"
  }
 },
 "nbformat": 4,
 "nbformat_minor": 0
}